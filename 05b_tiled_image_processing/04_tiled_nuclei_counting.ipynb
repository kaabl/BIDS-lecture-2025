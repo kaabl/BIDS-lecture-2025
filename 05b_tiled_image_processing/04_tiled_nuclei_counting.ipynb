{
 "cells": [
  {
   "cell_type": "markdown",
   "id": "500b07b7-5f43-40c0-ba80-bc6cd759f9f4",
   "metadata": {},
   "source": [
    "# Counting nuclei in tiles\n",
    "\n",
    "In this notebook we will process a big dataset that has been saved in zarr format to count cells in individual tiles. For every tile, we will write a pixel in an output image. Hence, we are producing a cell-count image that is smaller than the original image by a factor that corresponds to the tile size.\n",
    "\n",
    "**Please note:** This notebook will stress-test your graphics card. Before running it, save all files. It is possible that the graphics cards driver crashes while executing this. If you feel unsure, consider running this notebook on the cluster only."
   ]
  },
  {
   "cell_type": "code",
   "execution_count": 1,
   "id": "e6a9300d-1f11-4a3b-94bb-a136ba69f09d",
   "metadata": {
    "tags": []
   },
   "outputs": [],
   "source": [
    "import zarr\n",
    "import dask.array as da\n",
    "import numpy as np\n",
    "from skimage.io import imread\n",
    "import pyclesperanto as cle\n",
    "from stackview import imshow\n",
    "import stackview"
   ]
  },
  {
   "cell_type": "code",
   "execution_count": 2,
   "id": "a2fabf62-c5c1-42e1-8b99-b3723b921d3c",
   "metadata": {
    "tags": []
   },
   "outputs": [
    {
     "data": {
      "text/plain": [
       "(OpenCL) NVIDIA GeForce RTX 4070 Laptop GPU (OpenCL 3.0 CUDA)\n",
       "\tVendor:                      NVIDIA Corporation\n",
       "\tDriver Version:              560.94\n",
       "\tDevice Type:                 GPU\n",
       "\tCompute Units:               36\n",
       "\tGlobal Memory Size:          8187 MB\n",
       "\tLocal Memory Size:           0 MB\n",
       "\tMaximum Buffer Size:         2046 MB\n",
       "\tMax Clock Frequency:         1230 MHz\n",
       "\tImage Support:               Yes"
      ]
     },
     "execution_count": 2,
     "metadata": {},
     "output_type": "execute_result"
    }
   ],
   "source": [
    "cle.select_device(\"TX\")"
   ]
  },
  {
   "cell_type": "markdown",
   "id": "8959f8d4-a6d6-4a2d-b4b7-9378d2ceec01",
   "metadata": {},
   "source": [
    "For demonstration purposes, we use a dataset that is provided by Theresa Suckert, OncoRay, University Hospital Carl Gustav Carus, TU Dresden. The dataset is licensed [License: CC-BY 4.0](https://creativecommons.org/licenses/by/4.0/). We are using a cropped version here that was resaved a 8-bit image to be able to provide it with the notebook. You find the full size 16-bit image in CZI file format [online](https://zenodo.org/record/4276076#.YX1F-55BxaQ)."
   ]
  },
  {
   "cell_type": "markdown",
   "id": "d76246fe-7358-4e0c-8112-1f1fd0af4108",
   "metadata": {},
   "source": [
    "## Loading the zarr-backed image\n",
    "Dask brings built-in support for the zarr file format. We can create dask arrays directly from a zarr file."
   ]
  },
  {
   "cell_type": "code",
   "execution_count": 3,
   "id": "2132d10e-1ec5-43eb-9c3c-a4d9358919cc",
   "metadata": {
    "tags": []
   },
   "outputs": [
    {
     "data": {
      "text/html": [
       "<table>\n",
       "    <tr>\n",
       "        <td>\n",
       "            <table style=\"border-collapse: collapse;\">\n",
       "                <thead>\n",
       "                    <tr>\n",
       "                        <td> </td>\n",
       "                        <th> Array </th>\n",
       "                        <th> Chunk </th>\n",
       "                    </tr>\n",
       "                </thead>\n",
       "                <tbody>\n",
       "                    \n",
       "                    <tr>\n",
       "                        <th> Bytes </th>\n",
       "                        <td> 9.54 MiB </td>\n",
       "                        <td> 244.14 kiB </td>\n",
       "                    </tr>\n",
       "                    \n",
       "                    <tr>\n",
       "                        <th> Shape </th>\n",
       "                        <td> (2000, 5000) </td>\n",
       "                        <td> (500, 500) </td>\n",
       "                    </tr>\n",
       "                    <tr>\n",
       "                        <th> Dask graph </th>\n",
       "                        <td colspan=\"2\"> 40 chunks in 2 graph layers </td>\n",
       "                    </tr>\n",
       "                    <tr>\n",
       "                        <th> Data type </th>\n",
       "                        <td colspan=\"2\"> uint8 numpy.ndarray </td>\n",
       "                    </tr>\n",
       "                </tbody>\n",
       "            </table>\n",
       "        </td>\n",
       "        <td>\n",
       "        <svg width=\"170\" height=\"98\" style=\"stroke:rgb(0,0,0);stroke-width:1\" >\n",
       "\n",
       "  <!-- Horizontal lines -->\n",
       "  <line x1=\"0\" y1=\"0\" x2=\"120\" y2=\"0\" style=\"stroke-width:2\" />\n",
       "  <line x1=\"0\" y1=\"12\" x2=\"120\" y2=\"12\" />\n",
       "  <line x1=\"0\" y1=\"24\" x2=\"120\" y2=\"24\" />\n",
       "  <line x1=\"0\" y1=\"36\" x2=\"120\" y2=\"36\" />\n",
       "  <line x1=\"0\" y1=\"48\" x2=\"120\" y2=\"48\" style=\"stroke-width:2\" />\n",
       "\n",
       "  <!-- Vertical lines -->\n",
       "  <line x1=\"0\" y1=\"0\" x2=\"0\" y2=\"48\" style=\"stroke-width:2\" />\n",
       "  <line x1=\"12\" y1=\"0\" x2=\"12\" y2=\"48\" />\n",
       "  <line x1=\"24\" y1=\"0\" x2=\"24\" y2=\"48\" />\n",
       "  <line x1=\"36\" y1=\"0\" x2=\"36\" y2=\"48\" />\n",
       "  <line x1=\"48\" y1=\"0\" x2=\"48\" y2=\"48\" />\n",
       "  <line x1=\"60\" y1=\"0\" x2=\"60\" y2=\"48\" />\n",
       "  <line x1=\"72\" y1=\"0\" x2=\"72\" y2=\"48\" />\n",
       "  <line x1=\"84\" y1=\"0\" x2=\"84\" y2=\"48\" />\n",
       "  <line x1=\"96\" y1=\"0\" x2=\"96\" y2=\"48\" />\n",
       "  <line x1=\"108\" y1=\"0\" x2=\"108\" y2=\"48\" />\n",
       "  <line x1=\"120\" y1=\"0\" x2=\"120\" y2=\"48\" style=\"stroke-width:2\" />\n",
       "\n",
       "  <!-- Colored Rectangle -->\n",
       "  <polygon points=\"0.0,0.0 120.0,0.0 120.0,48.0 0.0,48.0\" style=\"fill:#ECB172A0;stroke-width:0\"/>\n",
       "\n",
       "  <!-- Text -->\n",
       "  <text x=\"60.000000\" y=\"68.000000\" font-size=\"1.0rem\" font-weight=\"100\" text-anchor=\"middle\" >5000</text>\n",
       "  <text x=\"140.000000\" y=\"24.000000\" font-size=\"1.0rem\" font-weight=\"100\" text-anchor=\"middle\" transform=\"rotate(-90,140.000000,24.000000)\">2000</text>\n",
       "</svg>\n",
       "        </td>\n",
       "    </tr>\n",
       "</table>"
      ],
      "text/plain": [
       "dask.array<from-zarr, shape=(2000, 5000), dtype=uint8, chunksize=(500, 500), chunktype=numpy.ndarray>"
      ]
     },
     "execution_count": 3,
     "metadata": {},
     "output_type": "execute_result"
    }
   ],
   "source": [
    "zarr_filename = 'data/P1_H_C3H_M004_17-cropped.zarr'\n",
    "\n",
    "zarr_image = da.from_zarr(zarr_filename)\n",
    "zarr_image"
   ]
  },
  {
   "cell_type": "markdown",
   "id": "c2721aa7-947e-4855-9325-c3e2b4746226",
   "metadata": {},
   "source": [
    "We can apply image processing to this tiled dataset directly."
   ]
  },
  {
   "cell_type": "markdown",
   "id": "84fd34c2-68fe-4eeb-8f2b-d213226086e0",
   "metadata": {},
   "source": [
    "## Counting nuclei\n",
    "For counting the nuclei, we setup a simple image processing workflow that applies Voronoi-Otsu-Labeling to the dataset. Afterwards, we count the segmented objects. As nuclei might be counted twice which touch the tile border, we have to correct the count for every tile. Technically, we could remove the objects which touch one of the vertical or horizontal tile borders. However, there is a simpler way for correcting for this error: We count the number of nuclei after segmentation. Then, we remove all nuclei which touch any image border and count the remaining nuclei again. We can then assume that half of the removed nuclei should be counted. Hence, we add the two counts, before and after edge-removal, and compute the average of these two measurements. Especially on large tiles with many nuclei, the remaining error should be negligible. It is not recommended to apply such an estimating cell counting method when each tile contains only few nuclei."
   ]
  },
  {
   "cell_type": "code",
   "execution_count": 4,
   "id": "713fcb46-9e8c-4090-a73e-a4d3b60dae24",
   "metadata": {
    "tags": []
   },
   "outputs": [],
   "source": [
    "def count_nuclei(image):\n",
    "    \"\"\"\n",
    "    Label objects in a binary image and produce a pixel-count-map image.\n",
    "    \"\"\"\n",
    "    print(\"Processing image of size\", image.shape)\n",
    "    \n",
    "    # Count nuclei including those which touch the image border\n",
    "    labels = cle.voronoi_otsu_labeling(image, spot_sigma=3.5)\n",
    "    label_intensity_map = cle.mean_intensity_map(image, labels)\n",
    "    \n",
    "    nuclei_count = label_intensity_map.max()\n",
    "    \n",
    "    # Count nuclei including those which touch the image border\n",
    "    labels_without_borders = cle.exclude_labels_on_edges(label_intensity_map)\n",
    "    nuclei_count_excluding_borders = labels_without_borders.max()\n",
    "    \n",
    "    # Both nuclei-count including and excluding nuclei at image borders \n",
    "    # are no good approximation. We should exclude the nuclei only on \n",
    "    # half of the borders to get a good estimate.\n",
    "    # Alternatively, we just take the average of both counts.\n",
    "    result = np.asarray([[(nuclei_count + nuclei_count_excluding_borders) / 2]])\n",
    "    \n",
    "    #print(result.shape)\n",
    "    \n",
    "    return result"
   ]
  },
  {
   "cell_type": "markdown",
   "id": "6b5420e4-f405-4ab9-b385-87be0b0750ce",
   "metadata": {},
   "source": [
    "Before we can start the computation, we need to deactivate asynchronous execution of operations in pyclesperanto. [See also related issue](https://github.com/clEsperanto/pyclesperanto_prototype/issues/163)."
   ]
  },
  {
   "cell_type": "code",
   "execution_count": 5,
   "id": "00cf9b77-0baa-492a-bc63-edf5e798c636",
   "metadata": {
    "tags": []
   },
   "outputs": [],
   "source": [
    "#cle.wait_for_kernel_finish(True)"
   ]
  },
  {
   "cell_type": "markdown",
   "id": "251e38da-f93f-4e1b-85bc-d4fb9181c680",
   "metadata": {},
   "source": [
    "This time, we do not use tile overlap, because we are not measuring properties of the nuclei and thus, don't need a prefect segmentation of them."
   ]
  },
  {
   "cell_type": "code",
   "execution_count": 6,
   "id": "eeba9ded-3fb3-4dba-81f3-6212c1251cbc",
   "metadata": {
    "tags": []
   },
   "outputs": [
    {
     "name": "stdout",
     "output_type": "stream",
     "text": [
      "Processing image of size (0, 0)\n",
      "Processing image of size (1, 1)\n",
      "Processing image of size (0, 0)\n"
     ]
    },
    {
     "data": {
      "text/html": [
       "<table>\n",
       "    <tr>\n",
       "        <td>\n",
       "            <table style=\"border-collapse: collapse;\">\n",
       "                <thead>\n",
       "                    <tr>\n",
       "                        <td> </td>\n",
       "                        <th> Array </th>\n",
       "                        <th> Chunk </th>\n",
       "                    </tr>\n",
       "                </thead>\n",
       "                <tbody>\n",
       "                    \n",
       "                    <tr>\n",
       "                        <th> Bytes </th>\n",
       "                        <td> 76.29 MiB </td>\n",
       "                        <td> 1.91 MiB </td>\n",
       "                    </tr>\n",
       "                    \n",
       "                    <tr>\n",
       "                        <th> Shape </th>\n",
       "                        <td> (2000, 5000) </td>\n",
       "                        <td> (500, 500) </td>\n",
       "                    </tr>\n",
       "                    <tr>\n",
       "                        <th> Dask graph </th>\n",
       "                        <td colspan=\"2\"> 40 chunks in 3 graph layers </td>\n",
       "                    </tr>\n",
       "                    <tr>\n",
       "                        <th> Data type </th>\n",
       "                        <td colspan=\"2\"> float64 numpy.ndarray </td>\n",
       "                    </tr>\n",
       "                </tbody>\n",
       "            </table>\n",
       "        </td>\n",
       "        <td>\n",
       "        <svg width=\"170\" height=\"98\" style=\"stroke:rgb(0,0,0);stroke-width:1\" >\n",
       "\n",
       "  <!-- Horizontal lines -->\n",
       "  <line x1=\"0\" y1=\"0\" x2=\"120\" y2=\"0\" style=\"stroke-width:2\" />\n",
       "  <line x1=\"0\" y1=\"12\" x2=\"120\" y2=\"12\" />\n",
       "  <line x1=\"0\" y1=\"24\" x2=\"120\" y2=\"24\" />\n",
       "  <line x1=\"0\" y1=\"36\" x2=\"120\" y2=\"36\" />\n",
       "  <line x1=\"0\" y1=\"48\" x2=\"120\" y2=\"48\" style=\"stroke-width:2\" />\n",
       "\n",
       "  <!-- Vertical lines -->\n",
       "  <line x1=\"0\" y1=\"0\" x2=\"0\" y2=\"48\" style=\"stroke-width:2\" />\n",
       "  <line x1=\"12\" y1=\"0\" x2=\"12\" y2=\"48\" />\n",
       "  <line x1=\"24\" y1=\"0\" x2=\"24\" y2=\"48\" />\n",
       "  <line x1=\"36\" y1=\"0\" x2=\"36\" y2=\"48\" />\n",
       "  <line x1=\"48\" y1=\"0\" x2=\"48\" y2=\"48\" />\n",
       "  <line x1=\"60\" y1=\"0\" x2=\"60\" y2=\"48\" />\n",
       "  <line x1=\"72\" y1=\"0\" x2=\"72\" y2=\"48\" />\n",
       "  <line x1=\"84\" y1=\"0\" x2=\"84\" y2=\"48\" />\n",
       "  <line x1=\"96\" y1=\"0\" x2=\"96\" y2=\"48\" />\n",
       "  <line x1=\"108\" y1=\"0\" x2=\"108\" y2=\"48\" />\n",
       "  <line x1=\"120\" y1=\"0\" x2=\"120\" y2=\"48\" style=\"stroke-width:2\" />\n",
       "\n",
       "  <!-- Colored Rectangle -->\n",
       "  <polygon points=\"0.0,0.0 120.0,0.0 120.0,48.0 0.0,48.0\" style=\"fill:#ECB172A0;stroke-width:0\"/>\n",
       "\n",
       "  <!-- Text -->\n",
       "  <text x=\"60.000000\" y=\"68.000000\" font-size=\"1.0rem\" font-weight=\"100\" text-anchor=\"middle\" >5000</text>\n",
       "  <text x=\"140.000000\" y=\"24.000000\" font-size=\"1.0rem\" font-weight=\"100\" text-anchor=\"middle\" transform=\"rotate(-90,140.000000,24.000000)\">2000</text>\n",
       "</svg>\n",
       "        </td>\n",
       "    </tr>\n",
       "</table>"
      ],
      "text/plain": [
       "dask.array<count_nuclei, shape=(2000, 5000), dtype=float64, chunksize=(500, 500), chunktype=numpy.ndarray>"
      ]
     },
     "execution_count": 6,
     "metadata": {},
     "output_type": "execute_result"
    }
   ],
   "source": [
    "tile_map = da.map_blocks(count_nuclei, zarr_image)\n",
    "\n",
    "tile_map"
   ]
  },
  {
   "cell_type": "markdown",
   "id": "08cbf9c0-7fe7-4eb7-b104-907cc62cb03b",
   "metadata": {},
   "source": [
    "As the result image is much smaller then the original, we can compute the whole result map."
   ]
  },
  {
   "cell_type": "code",
   "execution_count": 7,
   "id": "c32f321d-90a0-4f3e-90fe-0f876761ea89",
   "metadata": {
    "tags": []
   },
   "outputs": [
    {
     "name": "stdout",
     "output_type": "stream",
     "text": [
      "Processing image of size (500, 500)\n",
      "Processing image of size (500, 500)\n",
      "Processing image of size (500, 500)\n",
      "Processing image of size (500, 500)\n",
      "Processing image of size (500, 500)\n",
      "Processing image of size (500, 500)\n",
      "Processing image of size (500, 500)\n",
      "Processing image of size (500, 500)\n",
      "Processing image of size (500, 500)\n",
      "Processing image of size (500, 500)\n",
      "Processing image of size (500, 500)\n",
      "Processing image of size (500, 500)\n",
      "Processing image of size (500, 500)\n",
      "Processing image of size (500, 500)\n",
      "Processing image of size (500, 500)\n",
      "Processing image of size (500, 500)\n",
      "Processing image of size (500, 500)\n",
      "Processing image of size (500, 500)\n",
      "Processing image of size (500, 500)\n",
      "Processing image of size (500, 500)\n",
      "Processing image of size (500, 500)\n",
      "Processing image of size (500, 500)\n",
      "Processing image of size (500, 500)\n",
      "Processing image of size (500, 500)\n",
      "Processing image of size (500, 500)\n",
      "Processing image of size (500, 500)\n",
      "Processing image of size (500, 500)\n",
      "Processing image of sizeProcessing image of size (500, 500)\n",
      " (500, 500)\n",
      "Processing image of size (500, 500)\n",
      "Processing image of size (500, 500)\n",
      "Processing image of size (500, 500)\n",
      "Processing image of size (500, 500)\n",
      "Processing image of size (500, 500)\n",
      "Processing image of size (500, 500)\n",
      "Processing image of size (500, 500)\n",
      "Processing image of size (500, 500)\n",
      "Processing image of size (500, 500)\n",
      "Processing image of size (500, 500)\n",
      "Processing image of size (500, 500)\n"
     ]
    }
   ],
   "source": [
    "result = tile_map.compute()"
   ]
  },
  {
   "cell_type": "code",
   "execution_count": 8,
   "id": "d49be008-f92f-4eef-891a-d9a9a883eb21",
   "metadata": {},
   "outputs": [
    {
     "data": {
      "text/plain": [
       "(4, 10)"
      ]
     },
     "execution_count": 8,
     "metadata": {},
     "output_type": "execute_result"
    }
   ],
   "source": [
    "result.shape"
   ]
  },
  {
   "cell_type": "markdown",
   "id": "0fe71bbd-94c7-421b-8f58-560c521141d2",
   "metadata": {
    "tags": []
   },
   "source": [
    "Again, as the result map is small, we can just visualize it."
   ]
  },
  {
   "cell_type": "code",
   "execution_count": 9,
   "id": "64dbfdf3-6663-4949-9446-eb393ecdc288",
   "metadata": {},
   "outputs": [
    {
     "data": {
      "text/html": [
       "<table>\n",
       "<tr>\n",
       "<td>\n",
       "<img src=\"data:image/png;base64,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\"></img>\n",
       "</td>\n",
       "<td style=\"text-align: center; vertical-align: top;\">\n",
       "\n",
       "<table>\n",
       "<tr><td>shape</td><td>(4,&nbsp;10)</td></tr>\n",
       "<tr><td>dtype</td><td>float64</td></tr>\n",
       "<tr><td>size</td><td>320.0 B</td></tr>\n",
       "<tr><td>min</td><td>0.10810810327529907</td></tr><tr><td>max</td><td>135.54044342041016</td></tr>\n",
       "</table>\n",
       "<img src=\"data:image/png;base64,iVBORw0KGgoAAAANSUhEUgAAALQAAAB4CAYAAABb59j9AAAAOnRFWHRTb2Z0d2FyZQBNYXRwbG90bGliIHZlcnNpb24zLjEwLjEsIGh0dHBzOi8vbWF0cGxvdGxpYi5vcmcvc2/+5QAAAAlwSFlzAAAPYQAAD2EBqD+naQAAAoBJREFUeJzt3FGK2kAcx/F/pK/xAGKg9+mFeoReqPcpuOQACoW+ZPpQdilWuruNo7u/fj5PamQmwpchMsahtdYKQmzufQJwTYImiqCJImiiCJoogiaKoIkiaKIImiiCJoqgiSJoonzoNfCyLDXPc43jWMMw9JqGAK21Op1OtdvtarNZt8Z2C3qe55qmqdfwBDocDrXf71eN0S3ocRyr6tdJbrfbXtMQ4Hg81jRNT82s0S3ox8uM7XYraF7kGpemvhQSRdBE6XbJwfvx8fPXp8ffvny645msZ4UmiqCJImiiCJoogiaKoIkiaKIImiiCJoqgiSJoogiaKIImiqCJImiiCJoogiaKoIkiaKIImiiCJoq7vv9DSXd5n7NCE0XQRBE0UQRNFEETRdBEETRRBE0UQRNF0EQRNFEETRRBE0XQRBE0UQRNFEETRdBEETRRBE0UQRPlLnd9J991zH1ZoYkiaKIImiiCJoqgiSJoogiaKIImiqCJImii+MPzN8hPA/6dFZoogiaKoIkiaKIImiiCJoqgiSJoogiaKIImiq3vN+C1W93n77/nVvnvc1+a/7nj12aFJoqgiSJoogiaKIImiqCJImiiCJoogiaKoInyX25933qreO1W9a23xp97//l29kuP3YIVmiiCJoqgiSJoogiaKIImiqCJImiiCJoo3XYKW2tVVXU8Hv84tvz4/vT40vHebj3/+Xzv7fnfPs9rXRrv8bXHZtYY2jVGueDh4aGmaeoxNKEOh0Pt9/tVY3QLelmWmue5xnGsYRh6TEGI1lqdTqfa7Xa12ay7Cu4WNNyDL4VEETRRBE0UQRNF0EQRNFEETRRBE0XQRBE0UX4C9bLQTqzI8VsAAAAASUVORK5CYII=\"></img>\n",
       "</td>\n",
       "</tr>\n",
       "</table>"
      ],
      "text/plain": [
       "[[2.91666687e-01 1.17647067e-01 1.08108103e-01 1.20689653e-01\n",
       "  3.45280895e+01 1.05611485e+02 8.70858231e+01 7.66541367e+01\n",
       "  1.01995834e+02 1.07682880e+02]\n",
       " [1.02152382e+02 7.84645844e+01 8.21951866e+01 7.08040543e+01\n",
       "  7.53214302e+01 1.08524876e+02 7.55409355e+01 9.41184196e+01\n",
       "  1.07633331e+02 9.24234238e+01]\n",
       " [9.83196030e+01 6.52899170e+01 7.64819832e+01 8.86875000e+01\n",
       "  9.03942299e+01 1.02937328e+02 1.03779854e+02 1.06735294e+02\n",
       "  1.08961906e+02 1.24826973e+02]\n",
       " [1.09819298e+02 1.06567902e+02 1.13835587e+02 1.03714287e+02\n",
       "  1.07339695e+02 1.23065216e+02 1.20427086e+02 1.28658340e+02\n",
       "  1.31859375e+02 1.35540443e+02]]"
      ]
     },
     "execution_count": 9,
     "metadata": {},
     "output_type": "execute_result"
    }
   ],
   "source": [
    "stackview.insight(result)"
   ]
  },
  {
   "cell_type": "markdown",
   "id": "58e69505-e192-4256-b8d7-a2267ba03ce9",
   "metadata": {},
   "source": [
    "With a quick visual check in the original image, we can see that indeed in the bottom left corner of the image, there are more cells than in the top right."
   ]
  },
  {
   "cell_type": "code",
   "execution_count": 10,
   "id": "47821e67-f35a-431e-a1bc-1800f63b0010",
   "metadata": {
    "tags": []
   },
   "outputs": [
    {
     "data": {
      "text/html": [
       "<table>\n",
       "<tr>\n",
       "<td>\n",
       "<img src=\"data:image/png;base64,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\"></img>\n",
       "</td>\n",
       "<td style=\"text-align: center; vertical-align: top;\">\n",
       "\n",
       "<table>\n",
       "<tr><td>shape</td><td>(2000,&nbsp;5000)</td></tr>\n",
       "<tr><td>dtype</td><td>uint32</td></tr>\n",
       "<tr><td>size</td><td>38.1 MB</td></tr>\n",
       "<tr><td>min</td><td>0</td></tr><tr><td>max</td><td>4701</td></tr><tr><td>n labels</td><td>4701</td></tr>\n",
       "</table>\n",
       "\n",
       "</td>\n",
       "</tr>\n",
       "</table>"
      ],
      "text/plain": [
       "[[0 0 0 ... 0 0 0]\n",
       " [0 0 0 ... 0 0 0]\n",
       " [0 0 0 ... 0 0 0]\n",
       " ...\n",
       " [0 0 0 ... 0 0 0]\n",
       " [0 0 0 ... 0 0 0]\n",
       " [0 0 0 ... 0 0 0]]"
      ]
     },
     "execution_count": 10,
     "metadata": {},
     "output_type": "execute_result"
    }
   ],
   "source": [
    "image = zarr_image.compute() # this would not work if the image was larger than computer memory.\n",
    "\n",
    "stackview.insight(cle.voronoi_otsu_labeling(image, spot_sigma=3.5))"
   ]
  },
  {
   "cell_type": "markdown",
   "id": "10517b01-2d87-4a05-bc0e-dfe38e369490",
   "metadata": {},
   "source": [
    "## Exercise\n",
    "Compare the nuclei count results of both methods."
   ]
  },
  {
   "cell_type": "code",
   "execution_count": null,
   "id": "76d34844-249a-421b-88fe-c314052d531d",
   "metadata": {},
   "outputs": [],
   "source": []
  }
 ],
 "metadata": {
  "kernelspec": {
   "display_name": "Python 3 (ipykernel)",
   "language": "python",
   "name": "python3"
  },
  "language_info": {
   "codemirror_mode": {
    "name": "ipython",
    "version": 3
   },
   "file_extension": ".py",
   "mimetype": "text/x-python",
   "name": "python",
   "nbconvert_exporter": "python",
   "pygments_lexer": "ipython3",
   "version": "3.11.11"
  }
 },
 "nbformat": 4,
 "nbformat_minor": 5
}
