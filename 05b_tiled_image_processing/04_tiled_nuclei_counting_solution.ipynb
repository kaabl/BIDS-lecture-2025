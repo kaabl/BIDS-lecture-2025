{
 "cells": [
  {
   "cell_type": "markdown",
   "id": "500b07b7-5f43-40c0-ba80-bc6cd759f9f4",
   "metadata": {},
   "source": [
    "# Counting nuclei in tiles\n",
    "\n",
    "In this notebook we will process a big dataset that has been saved in zarr format to count cells in individual tiles. For every tile, we will write a pixel in an output image. Hence, we are producing a cell-count image that is smaller than the original image by a factor that corresponds to the tile size.\n",
    "\n",
    "**Please note:** This notebook will stress-test your graphics card. Before running it, save all files. It is possible that the graphics cards driver crashes while executing this. If you feel unsure, consider running this notebook on the cluster only."
   ]
  },
  {
   "cell_type": "code",
   "execution_count": 1,
   "id": "e6a9300d-1f11-4a3b-94bb-a136ba69f09d",
   "metadata": {
    "tags": []
   },
   "outputs": [],
   "source": [
    "import zarr\n",
    "import dask.array as da\n",
    "import numpy as np\n",
    "from skimage.io import imread\n",
    "import pyclesperanto as cle\n",
    "from stackview import imshow\n",
    "import stackview"
   ]
  },
  {
   "cell_type": "code",
   "execution_count": 2,
   "id": "a2fabf62-c5c1-42e1-8b99-b3723b921d3c",
   "metadata": {
    "tags": []
   },
   "outputs": [
    {
     "data": {
      "text/plain": [
       "(OpenCL) NVIDIA GeForce RTX 4070 Laptop GPU (OpenCL 3.0 CUDA)\n",
       "\tVendor:                      NVIDIA Corporation\n",
       "\tDriver Version:              560.94\n",
       "\tDevice Type:                 GPU\n",
       "\tCompute Units:               36\n",
       "\tGlobal Memory Size:          8187 MB\n",
       "\tLocal Memory Size:           0 MB\n",
       "\tMaximum Buffer Size:         2046 MB\n",
       "\tMax Clock Frequency:         1230 MHz\n",
       "\tImage Support:               Yes"
      ]
     },
     "execution_count": 2,
     "metadata": {},
     "output_type": "execute_result"
    }
   ],
   "source": [
    "cle.select_device(\"TX\")"
   ]
  },
  {
   "cell_type": "markdown",
   "id": "8959f8d4-a6d6-4a2d-b4b7-9378d2ceec01",
   "metadata": {},
   "source": [
    "For demonstration purposes, we use a dataset that is provided by Theresa Suckert, OncoRay, University Hospital Carl Gustav Carus, TU Dresden. The dataset is licensed [License: CC-BY 4.0](https://creativecommons.org/licenses/by/4.0/). We are using a cropped version here that was resaved a 8-bit image to be able to provide it with the notebook. You find the full size 16-bit image in CZI file format [online](https://zenodo.org/record/4276076#.YX1F-55BxaQ)."
   ]
  },
  {
   "cell_type": "markdown",
   "id": "d76246fe-7358-4e0c-8112-1f1fd0af4108",
   "metadata": {},
   "source": [
    "## Loading the zarr-backed image\n",
    "Dask brings built-in support for the zarr file format. We can create dask arrays directly from a zarr file."
   ]
  },
  {
   "cell_type": "code",
   "execution_count": 3,
   "id": "2132d10e-1ec5-43eb-9c3c-a4d9358919cc",
   "metadata": {
    "tags": []
   },
   "outputs": [
    {
     "data": {
      "text/html": [
       "<table>\n",
       "    <tr>\n",
       "        <td>\n",
       "            <table style=\"border-collapse: collapse;\">\n",
       "                <thead>\n",
       "                    <tr>\n",
       "                        <td> </td>\n",
       "                        <th> Array </th>\n",
       "                        <th> Chunk </th>\n",
       "                    </tr>\n",
       "                </thead>\n",
       "                <tbody>\n",
       "                    \n",
       "                    <tr>\n",
       "                        <th> Bytes </th>\n",
       "                        <td> 9.54 MiB </td>\n",
       "                        <td> 244.14 kiB </td>\n",
       "                    </tr>\n",
       "                    \n",
       "                    <tr>\n",
       "                        <th> Shape </th>\n",
       "                        <td> (2000, 5000) </td>\n",
       "                        <td> (500, 500) </td>\n",
       "                    </tr>\n",
       "                    <tr>\n",
       "                        <th> Dask graph </th>\n",
       "                        <td colspan=\"2\"> 40 chunks in 2 graph layers </td>\n",
       "                    </tr>\n",
       "                    <tr>\n",
       "                        <th> Data type </th>\n",
       "                        <td colspan=\"2\"> uint8 numpy.ndarray </td>\n",
       "                    </tr>\n",
       "                </tbody>\n",
       "            </table>\n",
       "        </td>\n",
       "        <td>\n",
       "        <svg width=\"170\" height=\"98\" style=\"stroke:rgb(0,0,0);stroke-width:1\" >\n",
       "\n",
       "  <!-- Horizontal lines -->\n",
       "  <line x1=\"0\" y1=\"0\" x2=\"120\" y2=\"0\" style=\"stroke-width:2\" />\n",
       "  <line x1=\"0\" y1=\"12\" x2=\"120\" y2=\"12\" />\n",
       "  <line x1=\"0\" y1=\"24\" x2=\"120\" y2=\"24\" />\n",
       "  <line x1=\"0\" y1=\"36\" x2=\"120\" y2=\"36\" />\n",
       "  <line x1=\"0\" y1=\"48\" x2=\"120\" y2=\"48\" style=\"stroke-width:2\" />\n",
       "\n",
       "  <!-- Vertical lines -->\n",
       "  <line x1=\"0\" y1=\"0\" x2=\"0\" y2=\"48\" style=\"stroke-width:2\" />\n",
       "  <line x1=\"12\" y1=\"0\" x2=\"12\" y2=\"48\" />\n",
       "  <line x1=\"24\" y1=\"0\" x2=\"24\" y2=\"48\" />\n",
       "  <line x1=\"36\" y1=\"0\" x2=\"36\" y2=\"48\" />\n",
       "  <line x1=\"48\" y1=\"0\" x2=\"48\" y2=\"48\" />\n",
       "  <line x1=\"60\" y1=\"0\" x2=\"60\" y2=\"48\" />\n",
       "  <line x1=\"72\" y1=\"0\" x2=\"72\" y2=\"48\" />\n",
       "  <line x1=\"84\" y1=\"0\" x2=\"84\" y2=\"48\" />\n",
       "  <line x1=\"96\" y1=\"0\" x2=\"96\" y2=\"48\" />\n",
       "  <line x1=\"108\" y1=\"0\" x2=\"108\" y2=\"48\" />\n",
       "  <line x1=\"120\" y1=\"0\" x2=\"120\" y2=\"48\" style=\"stroke-width:2\" />\n",
       "\n",
       "  <!-- Colored Rectangle -->\n",
       "  <polygon points=\"0.0,0.0 120.0,0.0 120.0,48.0 0.0,48.0\" style=\"fill:#ECB172A0;stroke-width:0\"/>\n",
       "\n",
       "  <!-- Text -->\n",
       "  <text x=\"60.000000\" y=\"68.000000\" font-size=\"1.0rem\" font-weight=\"100\" text-anchor=\"middle\" >5000</text>\n",
       "  <text x=\"140.000000\" y=\"24.000000\" font-size=\"1.0rem\" font-weight=\"100\" text-anchor=\"middle\" transform=\"rotate(-90,140.000000,24.000000)\">2000</text>\n",
       "</svg>\n",
       "        </td>\n",
       "    </tr>\n",
       "</table>"
      ],
      "text/plain": [
       "dask.array<from-zarr, shape=(2000, 5000), dtype=uint8, chunksize=(500, 500), chunktype=numpy.ndarray>"
      ]
     },
     "execution_count": 3,
     "metadata": {},
     "output_type": "execute_result"
    }
   ],
   "source": [
    "zarr_filename = 'data/P1_H_C3H_M004_17-cropped.zarr'\n",
    "\n",
    "zarr_image = da.from_zarr(zarr_filename)\n",
    "zarr_image"
   ]
  },
  {
   "cell_type": "markdown",
   "id": "c2721aa7-947e-4855-9325-c3e2b4746226",
   "metadata": {},
   "source": [
    "We can apply image processing to this tiled dataset directly."
   ]
  },
  {
   "cell_type": "markdown",
   "id": "84fd34c2-68fe-4eeb-8f2b-d213226086e0",
   "metadata": {},
   "source": [
    "## Counting nuclei\n",
    "For counting the nuclei, we setup a simple image processing workflow that applies Voronoi-Otsu-Labeling to the dataset. Afterwards, we count the segmented objects. As nuclei might be counted twice which touch the tile border, we have to correct the count for every tile. Technically, we could remove the objects which touch one of the vertical or horizontal tile borders. However, there is a simpler way for correcting for this error: We count the number of nuclei after segmentation. Then, we remove all nuclei which touch any image border and count the remaining nuclei again. We can then assume that half of the removed nuclei should be counted. Hence, we add the two counts, before and after edge-removal, and compute the average of these two measurements. Especially on large tiles with many nuclei, the remaining error should be negligible. It is not recommended to apply such an estimating cell counting method when each tile contains only few nuclei."
   ]
  },
  {
   "cell_type": "code",
   "execution_count": 4,
   "id": "713fcb46-9e8c-4090-a73e-a4d3b60dae24",
   "metadata": {
    "tags": []
   },
   "outputs": [],
   "source": [
    "def count_nuclei(image, debug=False):\n",
    "    \"\"\"\n",
    "    Label objects in a binary image and produce a pixel-count-map image.\n",
    "    \"\"\"\n",
    "    print(\"Processing image of size\", image.shape)\n",
    "    \n",
    "    # Count nuclei including those which touch the image border\n",
    "    labels = cle.voronoi_otsu_labeling((image > 20)*1, spot_sigma=3.5)\n",
    "    if debug:\n",
    "        stackview.imshow(labels)\n",
    "    nuclei_count = labels.max()\n",
    "    \n",
    "    # Count nuclei including those which touch the image border\n",
    "    labels_without_borders = cle.exclude_labels_on_edges(labels)\n",
    "    nuclei_count_excluding_borders = labels_without_borders.max()\n",
    "    \n",
    "    # Both nuclei-count including and excluding nuclei at image borders \n",
    "    # are no good approximation. We should exclude the nuclei only on \n",
    "    # half of the borders to get a good estimate.\n",
    "    # Alternatively, we just take the average of both counts.\n",
    "    result = np.asarray([[(nuclei_count + nuclei_count_excluding_borders) / 2]])\n",
    "    \n",
    "    return result"
   ]
  },
  {
   "cell_type": "code",
   "execution_count": 5,
   "id": "3ca1a822-f284-4a2e-9e6c-5989a7635a82",
   "metadata": {
    "tags": []
   },
   "outputs": [
    {
     "data": {
      "image/png": "[encoded data removed]",
      "text/plain": [
       "<Figure size 640x480 with 1 Axes>"
      ]
     },
     "metadata": {},
     "output_type": "display_data"
    },
    {
     "name": "stdout",
     "output_type": "stream",
     "text": [
      "Processing image of size (100, 100)\n"
     ]
    },
    {
     "data": {
      "image/png": "[encoded data removed]",
      "text/plain": [
       "<Figure size 640x480 with 1 Axes>"
      ]
     },
     "metadata": {},
     "output_type": "display_data"
    },
    {
     "data": {
      "text/plain": [
       "array([[10.5]])"
      ]
     },
     "execution_count": 5,
     "metadata": {},
     "output_type": "execute_result"
    },
    {
     "name": "stdout",
     "output_type": "stream",
     "text": [
      "Processing image of size (500, 500)\n",
      "Processing image of size (500, 500)\n",
      "Processing image of size (500, 500)\n"
     ]
    }
   ],
   "source": [
    "test_image = zarr_image[-100:, -100:]\n",
    "stackview.imshow(test_image)\n",
    "count_nuclei(test_image, debug=True)"
   ]
  },
  {
   "cell_type": "markdown",
   "id": "6b5420e4-f405-4ab9-b385-87be0b0750ce",
   "metadata": {},
   "source": [
    "Before we can start the computation, we need to deactivate asynchronous execution of operations in pyclesperanto. [See also related issue](https://github.com/clEsperanto/pyclesperanto_prototype/issues/163)."
   ]
  },
  {
   "cell_type": "code",
   "execution_count": 6,
   "id": "00cf9b77-0baa-492a-bc63-edf5e798c636",
   "metadata": {
    "tags": []
   },
   "outputs": [],
   "source": [
    "#cle.wait_for_kernel_finish(True)"
   ]
  },
  {
   "cell_type": "markdown",
   "id": "251e38da-f93f-4e1b-85bc-d4fb9181c680",
   "metadata": {},
   "source": [
    "This time, we do not use tile overlap, because we are not measuring properties of the nuclei and thus, don't need a prefect segmentation of them."
   ]
  },
  {
   "cell_type": "code",
   "execution_count": 7,
   "id": "eeba9ded-3fb3-4dba-81f3-6212c1251cbc",
   "metadata": {
    "tags": []
   },
   "outputs": [
    {
     "name": "stdout",
     "output_type": "stream",
     "text": [
      "Processing image of size (0, 0)\n",
      "Processing image of size (1, 1)\n",
      "Processing image of size (0, 0)\n"
     ]
    },
    {
     "data": {
      "text/html": [
       "<table>\n",
       "    <tr>\n",
       "        <td>\n",
       "            <table style=\"border-collapse: collapse;\">\n",
       "                <thead>\n",
       "                    <tr>\n",
       "                        <td> </td>\n",
       "                        <th> Array </th>\n",
       "                        <th> Chunk </th>\n",
       "                    </tr>\n",
       "                </thead>\n",
       "                <tbody>\n",
       "                    \n",
       "                    <tr>\n",
       "                        <th> Bytes </th>\n",
       "                        <td> 76.29 MiB </td>\n",
       "                        <td> 1.91 MiB </td>\n",
       "                    </tr>\n",
       "                    \n",
       "                    <tr>\n",
       "                        <th> Shape </th>\n",
       "                        <td> (2000, 5000) </td>\n",
       "                        <td> (500, 500) </td>\n",
       "                    </tr>\n",
       "                    <tr>\n",
       "                        <th> Dask graph </th>\n",
       "                        <td colspan=\"2\"> 40 chunks in 3 graph layers </td>\n",
       "                    </tr>\n",
       "                    <tr>\n",
       "                        <th> Data type </th>\n",
       "                        <td colspan=\"2\"> float64 numpy.ndarray </td>\n",
       "                    </tr>\n",
       "                </tbody>\n",
       "            </table>\n",
       "        </td>\n",
       "        <td>\n",
       "        <svg width=\"170\" height=\"98\" style=\"stroke:rgb(0,0,0);stroke-width:1\" >\n",
       "\n",
       "  <!-- Horizontal lines -->\n",
       "  <line x1=\"0\" y1=\"0\" x2=\"120\" y2=\"0\" style=\"stroke-width:2\" />\n",
       "  <line x1=\"0\" y1=\"12\" x2=\"120\" y2=\"12\" />\n",
       "  <line x1=\"0\" y1=\"24\" x2=\"120\" y2=\"24\" />\n",
       "  <line x1=\"0\" y1=\"36\" x2=\"120\" y2=\"36\" />\n",
       "  <line x1=\"0\" y1=\"48\" x2=\"120\" y2=\"48\" style=\"stroke-width:2\" />\n",
       "\n",
       "  <!-- Vertical lines -->\n",
       "  <line x1=\"0\" y1=\"0\" x2=\"0\" y2=\"48\" style=\"stroke-width:2\" />\n",
       "  <line x1=\"12\" y1=\"0\" x2=\"12\" y2=\"48\" />\n",
       "  <line x1=\"24\" y1=\"0\" x2=\"24\" y2=\"48\" />\n",
       "  <line x1=\"36\" y1=\"0\" x2=\"36\" y2=\"48\" />\n",
       "  <line x1=\"48\" y1=\"0\" x2=\"48\" y2=\"48\" />\n",
       "  <line x1=\"60\" y1=\"0\" x2=\"60\" y2=\"48\" />\n",
       "  <line x1=\"72\" y1=\"0\" x2=\"72\" y2=\"48\" />\n",
       "  <line x1=\"84\" y1=\"0\" x2=\"84\" y2=\"48\" />\n",
       "  <line x1=\"96\" y1=\"0\" x2=\"96\" y2=\"48\" />\n",
       "  <line x1=\"108\" y1=\"0\" x2=\"108\" y2=\"48\" />\n",
       "  <line x1=\"120\" y1=\"0\" x2=\"120\" y2=\"48\" style=\"stroke-width:2\" />\n",
       "\n",
       "  <!-- Colored Rectangle -->\n",
       "  <polygon points=\"0.0,0.0 120.0,0.0 120.0,48.0 0.0,48.0\" style=\"fill:#ECB172A0;stroke-width:0\"/>\n",
       "\n",
       "  <!-- Text -->\n",
       "  <text x=\"60.000000\" y=\"68.000000\" font-size=\"1.0rem\" font-weight=\"100\" text-anchor=\"middle\" >5000</text>\n",
       "  <text x=\"140.000000\" y=\"24.000000\" font-size=\"1.0rem\" font-weight=\"100\" text-anchor=\"middle\" transform=\"rotate(-90,140.000000,24.000000)\">2000</text>\n",
       "</svg>\n",
       "        </td>\n",
       "    </tr>\n",
       "</table>"
      ],
      "text/plain": [
       "dask.array<count_nuclei, shape=(2000, 5000), dtype=float64, chunksize=(500, 500), chunktype=numpy.ndarray>"
      ]
     },
     "execution_count": 7,
     "metadata": {},
     "output_type": "execute_result"
    }
   ],
   "source": [
    "tile_map = da.map_blocks(count_nuclei, zarr_image)\n",
    "\n",
    "tile_map"
   ]
  },
  {
   "cell_type": "markdown",
   "id": "08cbf9c0-7fe7-4eb7-b104-907cc62cb03b",
   "metadata": {},
   "source": [
    "As the result image is much smaller then the original, we can compute the whole result map."
   ]
  },
  {
   "cell_type": "code",
   "execution_count": 8,
   "id": "c32f321d-90a0-4f3e-90fe-0f876761ea89",
   "metadata": {
    "tags": []
   },
   "outputs": [
    {
     "name": "stdout",
     "output_type": "stream",
     "text": [
      "Processing image of size (500, 500)\n",
      "Processing image of size (500, 500)\n",
      "Processing image of size (500, 500)\n",
      "Processing image of size (500, 500)\n",
      "Processing image of size (500, 500)\n",
      "Processing image of size (500, 500)\n",
      "Processing image of size (500, 500)\n",
      "Processing image of size (500, 500)\n",
      "Processing image of size (500, 500)\n",
      "Processing image of size (500, 500)\n",
      "Processing image of size (500, 500)\n",
      "Processing image of size (500, 500)\n",
      "Processing image of size (500, 500)\n",
      "Processing image of size (500, 500)\n",
      "Processing image of size (500, 500)\n",
      "Processing image of size (500, 500)\n",
      "Processing image of size (500, 500)\n",
      "Processing image of size (500, 500)\n",
      "Processing image of size (500, 500)\n",
      "Processing image of size (500, 500)\n",
      "Processing image of size (500, 500)\n",
      "Processing image of size (500, 500)\n",
      "Processing image of size (500, 500)\n",
      "Processing image of size (500, 500)\n",
      "Processing image of size (500, 500)\n",
      "Processing image of size (500, 500)\n",
      "Processing image of size (500, 500)\n",
      "Processing image of size (500, 500)\n",
      "Processing image of size (500, 500)\n",
      "Processing image of size (500, 500)\n",
      "Processing image of size (500, 500)\n",
      "Processing image of size (500, 500)\n",
      "Processing image of size (500, 500)\n",
      "Processing image of size (500, 500)\n",
      "Processing image of size (500, 500)\n",
      "Processing image of size (500, 500)\n",
      "Processing image of size (500, 500)\n"
     ]
    }
   ],
   "source": [
    "result = tile_map.compute()"
   ]
  },
  {
   "cell_type": "code",
   "execution_count": 9,
   "id": "d49be008-f92f-4eef-891a-d9a9a883eb21",
   "metadata": {},
   "outputs": [
    {
     "data": {
      "text/plain": [
       "(4, 10)"
      ]
     },
     "execution_count": 9,
     "metadata": {},
     "output_type": "execute_result"
    }
   ],
   "source": [
    "result.shape"
   ]
  },
  {
   "cell_type": "markdown",
   "id": "0fe71bbd-94c7-421b-8f58-560c521141d2",
   "metadata": {
    "tags": []
   },
   "source": [
    "Again, as the result map is small, we can just visualize it."
   ]
  },
  {
   "cell_type": "code",
   "execution_count": 10,
   "id": "64dbfdf3-6663-4949-9446-eb393ecdc288",
   "metadata": {},
   "outputs": [
    {
     "data": {
      "text/html": [
       "<table>\n",
       "<tr>\n",
       "<td>\n",
       "<img src=\"data:image/png;base64,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\"></img>\n",
       "</td>\n",
       "<td style=\"text-align: center; vertical-align: top;\">\n",
       "\n",
       "<table>\n",
       "<tr><td>shape</td><td>(4,&nbsp;10)</td></tr>\n",
       "<tr><td>dtype</td><td>float64</td></tr>\n",
       "<tr><td>size</td><td>320.0 B</td></tr>\n",
       "<tr><td>min</td><td>0.0</td></tr><tr><td>max</td><td>236.0</td></tr>\n",
       "</table>\n",
       "<img src=\"data:image/png;base64,iVBORw0KGgoAAAANSUhEUgAAALQAAAB4CAYAAABb59j9AAAAOnRFWHRTb2Z0d2FyZQBNYXRwbG90bGliIHZlcnNpb24zLjEwLjEsIGh0dHBzOi8vbWF0cGxvdGxpYi5vcmcvc2/+5QAAAAlwSFlzAAAPYQAAD2EBqD+naQAAAoVJREFUeJzt3E1q21AUhuEj06m8AGNB99MNdQndUPdTcNACbCh0ottBSShpGteVbhw+nmfk3ysZXi4yHDS01lpBiN29TwC2JGiiCJoogiaKoIkiaKIImiiCJoqgiSJoogiaKIImyodeCy/LUvM81ziONQxDr8MQoLVWl8ulDodD7Xbr9thuQc/zXNM09VqeQKfTqY7H46o1ugU9jmNV/TrJ/X7f6zAEOJ/PNU3TUzNrdAv68TJjv98Lmn+yxaWpP4VEETRRul1yvObj569Pj799+XSPUyCUHZoogiaKoIkiaKIImiiCJoqgiSJoogiaKIImiqCJImiiCJoogiaKoIkiaKIImiiCJoqgiSJoogiaKIImiqCJImiiCJoogiaKoIkiaKLc5WaN3FfyzTLt0EQRNFEETRRBE0XQRBE0UQRNFEETRdBEETRRBE0UQRNF0EQRNFGMjwZ6Ph56bVx0zTjp79/9n+9vzQ5NFEETRdBEETRRBE0UQRNF0EQRNFEETRRBE0XQRBE0UQRNFNN2HWx9M8Se03JbHP9vn+11Pq+xQxNF0EQRNFEETRRBE0XQRBE0UQRNFEETRdBEETRRBE0UQRNF0ER5l+Ojvccl33oc89abJ753z0dEb/ls799rhyaKoIkiaKIImiiCJoqgiSJoogiaKIImiqCJImiiCJoogiZKt2m71lpVVZ3P5z/eW358f3rc4/1r3nr9a8+3Pt+1z29Z/1Yvrf/42mMzawxti1Ve8PDwUNM09ViaUKfTqY7H46o1ugW9LEvN81zjONYwDD0OQYjWWl0ulzocDrXbrbsK7hY03IM/hUQRNFEETRRBE0XQRBE0UQRNFEETRdBEETRRfgLD7drC9ONKfwAAAABJRU5ErkJggg==\"></img>\n",
       "</td>\n",
       "</tr>\n",
       "</table>"
      ],
      "text/plain": [
       "[[  1.    0.    0.    0.    1.5  22.   63.  107.  142.  167. ]\n",
       " [  1.   29.5  79.  122.  114.5 142.5 158.  181.5 169.  172. ]\n",
       " [104.  165.5 187.  187.5 182.5 209.  177.  160.  172.5 220. ]\n",
       " [216.  221.5 177.5 189.  200.  215.  236.  226.5 206.  174.5]]"
      ]
     },
     "execution_count": 10,
     "metadata": {},
     "output_type": "execute_result"
    }
   ],
   "source": [
    "stackview.insight(result)"
   ]
  },
  {
   "cell_type": "markdown",
   "id": "58e69505-e192-4256-b8d7-a2267ba03ce9",
   "metadata": {},
   "source": [
    "With a quick visual check in the original image, we can see that indeed in the bottom left corner of the image, there are more cells than in the top right."
   ]
  },
  {
   "cell_type": "code",
   "execution_count": 11,
   "id": "47821e67-f35a-431e-a1bc-1800f63b0010",
   "metadata": {
    "tags": []
   },
   "outputs": [
    {
     "data": {
      "text/html": [
       "<table>\n",
       "<tr>\n",
       "<td>\n",
       "<img src=\"data:image/png;base64,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\"></img>\n",
       "</td>\n",
       "<td style=\"text-align: center; vertical-align: top;\">\n",
       "\n",
       "<table>\n",
       "<tr><td>shape</td><td>(2000,&nbsp;5000)</td></tr>\n",
       "<tr><td>dtype</td><td>uint32</td></tr>\n",
       "<tr><td>size</td><td>38.1 MB</td></tr>\n",
       "<tr><td>min</td><td>0</td></tr><tr><td>max</td><td>5534</td></tr><tr><td>n labels</td><td>5534</td></tr>\n",
       "</table>\n",
       "\n",
       "</td>\n",
       "</tr>\n",
       "</table>"
      ],
      "text/plain": [
       "[[   0    0    0 ...    0    0    0]\n",
       " [   0    0    0 ...    0    0    0]\n",
       " [   0    0    0 ...    0    0    0]\n",
       " ...\n",
       " [   0    0    0 ...    0    0    0]\n",
       " [   0    0    0 ...    0    0    0]\n",
       " [5496 5496    0 ... 5534    0    0]]"
      ]
     },
     "execution_count": 11,
     "metadata": {},
     "output_type": "execute_result"
    }
   ],
   "source": [
    "image = zarr_image.compute() # this would not work if the image was larger than computer memory.\n",
    "labels = cle.voronoi_otsu_labeling((image > 20)*1, spot_sigma=3.5)\n",
    "stackview.insight(labels)"
   ]
  },
  {
   "cell_type": "markdown",
   "id": "10517b01-2d87-4a05-bc0e-dfe38e369490",
   "metadata": {},
   "source": [
    "## Exercise\n",
    "Compare the nuclei count results of both methods."
   ]
  },
  {
   "cell_type": "code",
   "execution_count": 12,
   "id": "76d34844-249a-421b-88fe-c314052d531d",
   "metadata": {},
   "outputs": [
    {
     "data": {
      "text/plain": [
       "5499.5"
      ]
     },
     "execution_count": 12,
     "metadata": {},
     "output_type": "execute_result"
    }
   ],
   "source": [
    "result.sum()"
   ]
  },
  {
   "cell_type": "code",
   "execution_count": 13,
   "id": "f244c6b7-7dcd-49ce-8189-7583d2dec751",
   "metadata": {
    "tags": []
   },
   "outputs": [
    {
     "data": {
      "text/plain": [
       "5534.0"
      ]
     },
     "execution_count": 13,
     "metadata": {},
     "output_type": "execute_result"
    }
   ],
   "source": [
    "labels.max()"
   ]
  },
  {
   "cell_type": "code",
   "execution_count": null,
   "id": "da90fab5-c479-4f1c-89f0-41bce1e35a64",
   "metadata": {},
   "outputs": [],
   "source": []
  }
 ],
 "metadata": {
  "kernelspec": {
   "display_name": "Python 3 (ipykernel)",
   "language": "python",
   "name": "python3"
  },
  "language_info": {
   "codemirror_mode": {
    "name": "ipython",
    "version": 3
   },
   "file_extension": ".py",
   "mimetype": "text/x-python",
   "name": "python",
   "nbconvert_exporter": "python",
   "pygments_lexer": "ipython3",
   "version": "3.11.11"
  }
 },
 "nbformat": 4,
 "nbformat_minor": 5
}
